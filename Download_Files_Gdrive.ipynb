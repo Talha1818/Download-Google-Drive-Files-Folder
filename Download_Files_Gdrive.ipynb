{
  "nbformat": 4,
  "nbformat_minor": 0,
  "metadata": {
    "colab": {
      "provenance": [],
      "authorship_tag": "ABX9TyOqCIzg5xyMg6IXfl9nu7D2",
      "include_colab_link": true
    },
    "kernelspec": {
      "name": "python3",
      "display_name": "Python 3"
    },
    "language_info": {
      "name": "python"
    }
  },
  "cells": [
    {
      "cell_type": "markdown",
      "metadata": {
        "id": "view-in-github",
        "colab_type": "text"
      },
      "source": [
        "<a href=\"https://colab.research.google.com/github/Talha1818/Download-Google-Drive-Files-Folder/blob/master/Download_Files_Gdrive.ipynb\" target=\"_parent\"><img src=\"https://colab.research.google.com/assets/colab-badge.svg\" alt=\"Open In Colab\"/></a>"
      ]
    },
    {
      "cell_type": "code",
      "source": [
        "import gdown\n",
        "import os"
      ],
      "metadata": {
        "id": "l_dn6eou-Mzy"
      },
      "execution_count": 13,
      "outputs": []
    },
    {
      "cell_type": "code",
      "source": [
        "class GDrive:\n",
        "  def __init__(self, url, directory):\n",
        "    self.url = url\n",
        "    self.directory = directory\n",
        "    self.create_folder()\n",
        "\n",
        "  def create_folder(self):\n",
        "    try:\n",
        "        os.makedirs(self.directory)\n",
        "        print(f\"Directory '{self.directory}' created successfully!\")\n",
        "    except FileExistsError:\n",
        "        print(f\"Directory '{self.directory}' already exists!\")\n",
        "    \n",
        "  \n",
        "  def download_files(self, path=None, folder=False):\n",
        "    if folder:\n",
        "      if self.url.split('/')[-1] == '?usp=sharing':\n",
        "        self.url = self.url.replace('?usp=sharing','')\n",
        "      gdown.download_folder(self.url, output=self.directory)\n",
        "    else:\n",
        "      file_id = url.split('/')[-2]\n",
        "      prefix = 'https://drive.google.com/uc?/export=download&id='\n",
        "      gdown.download(prefix+file_id, output=self.directory)"
      ],
      "metadata": {
        "id": "OWtdgtxpIwE_"
      },
      "execution_count": 39,
      "outputs": []
    },
    {
      "cell_type": "code",
      "source": [
        "folder_url = \"https://drive.google.com/drive/folders/1-Z4m6y-46UmYQlgGaC2IBOAPmPVGFevA?usp=sharing\"\n",
        "url = \"https://drive.google.com/file/d/1-4mQu-WNakxBhx5MD-g5QxIHymNgWwuJ/view?usp=sharing\"\n",
        "folder_url1 = \"https://drive.google.com/drive/folders/1-E42WS2dv_Q4b9_GCxCdUdBXWVDafUYj?usp=sharing\"\n",
        "d = GDrive(folder_url, '/content/MYFILE/')\n",
        "d.download_files(folder=True)"
      ],
      "metadata": {
        "colab": {
          "base_uri": "https://localhost:8080/"
        },
        "id": "STsE9ru3n4Bl",
        "outputId": "3d04c64b-78aa-493f-a44f-c973953b2e45"
      },
      "execution_count": 43,
      "outputs": [
        {
          "output_type": "stream",
          "name": "stdout",
          "text": [
            "Directory '/content/MYFILE/' already exists!\n"
          ]
        },
        {
          "output_type": "stream",
          "name": "stderr",
          "text": [
            "Retrieving folder list\n"
          ]
        },
        {
          "output_type": "stream",
          "name": "stdout",
          "text": [
            "Processing file 1-TyRC7csyumrKQKTN2Jktw5pP1WcJqIq config.json\n",
            "Processing file 1-Nz56xev4Fj-gWjB2Lm0rpgbL2Y32oCh pytorch_model.bin\n",
            "Building directory structure completed\n"
          ]
        },
        {
          "output_type": "stream",
          "name": "stderr",
          "text": [
            "Retrieving folder list completed\n",
            "Building directory structure\n",
            "Downloading...\n",
            "From: https://drive.google.com/uc?id=1-TyRC7csyumrKQKTN2Jktw5pP1WcJqIq\n",
            "To: /content/MYFILE/BERT_MODEL_FULL_SAMPLE_GREATER_100_24_MAY_2023_train_4/config.json\n",
            "100%|██████████| 6.40k/6.40k [00:00<00:00, 11.7MB/s]\n",
            "Downloading...\n",
            "From: https://drive.google.com/uc?id=1-Nz56xev4Fj-gWjB2Lm0rpgbL2Y32oCh\n",
            "To: /content/MYFILE/BERT_MODEL_FULL_SAMPLE_GREATER_100_24_MAY_2023_train_4/pytorch_model.bin\n",
            "100%|██████████| 438M/438M [00:06<00:00, 67.6MB/s]\n",
            "Download completed\n"
          ]
        }
      ]
    },
    {
      "cell_type": "code",
      "source": [
        "import os\n",
        "\n",
        "# Get the names of files and folders in a directory\n",
        "def get_directory_contents(directory):\n",
        "    contents = os.listdir(directory)\n",
        "    return contents"
      ],
      "metadata": {
        "id": "b0ql8XeeuUrO"
      },
      "execution_count": 44,
      "outputs": []
    },
    {
      "cell_type": "code",
      "source": [
        "get_directory_contents(\"/content/MYFILE\")"
      ],
      "metadata": {
        "colab": {
          "base_uri": "https://localhost:8080/"
        },
        "id": "4mnDzWAbBWoq",
        "outputId": "62d193a7-9f55-4e6a-e276-cc65898170f1"
      },
      "execution_count": 45,
      "outputs": [
        {
          "output_type": "execute_result",
          "data": {
            "text/plain": [
              "['Frequency_of_Documents_Lender_Token_22_May_2023.csv',\n",
              " 'tokenizer_4_epoch',\n",
              " 'BERT_MODEL_FULL_SAMPLE_GREATER_100_24_MAY_2023_train_4']"
            ]
          },
          "metadata": {},
          "execution_count": 45
        }
      ]
    },
    {
      "cell_type": "code",
      "source": [
        "# Rename a file or folder\n",
        "def rename_file_or_folder(path, new_name):\n",
        "    directory = os.path.dirname(path)\n",
        "    new_path = os.path.join(directory, new_name)\n",
        "    os.rename(path, new_path)\n",
        "    print(f\"Renamed '{path}' to '{new_path}'\")\n",
        "\n",
        "# Example usage\n",
        "directory_path = \"/content/MYFILE\"\n",
        "\n",
        "# Get the contents of the directory\n",
        "contents = get_directory_contents(directory_path)"
      ],
      "metadata": {
        "id": "4aJfCCiwBWHz"
      },
      "execution_count": 46,
      "outputs": []
    },
    {
      "cell_type": "code",
      "source": [
        "contents"
      ],
      "metadata": {
        "colab": {
          "base_uri": "https://localhost:8080/"
        },
        "id": "N1PG074RBdSa",
        "outputId": "a1e79440-4e76-47a6-ee64-0b927d59177a"
      },
      "execution_count": 47,
      "outputs": [
        {
          "output_type": "execute_result",
          "data": {
            "text/plain": [
              "['Frequency_of_Documents_Lender_Token_22_May_2023.csv',\n",
              " 'tokenizer_4_epoch',\n",
              " 'BERT_MODEL_FULL_SAMPLE_GREATER_100_24_MAY_2023_train_4']"
            ]
          },
          "metadata": {},
          "execution_count": 47
        }
      ]
    },
    {
      "cell_type": "code",
      "source": [
        "content_path = os.path.join(directory_path, contents[1])\n",
        "content_path"
      ],
      "metadata": {
        "colab": {
          "base_uri": "https://localhost:8080/",
          "height": 35
        },
        "id": "yb6nOdiVBjnU",
        "outputId": "c3df7e60-1045-450f-8406-0c51443ebbd3"
      },
      "execution_count": 49,
      "outputs": [
        {
          "output_type": "execute_result",
          "data": {
            "text/plain": [
              "'/content/MYFILE/tokenizer_4_epoch'"
            ],
            "application/vnd.google.colaboratory.intrinsic+json": {
              "type": "string"
            }
          },
          "metadata": {},
          "execution_count": 49
        }
      ]
    },
    {
      "cell_type": "code",
      "source": [
        "rename_file_or_folder(content_path, \"tokenizer\")"
      ],
      "metadata": {
        "colab": {
          "base_uri": "https://localhost:8080/"
        },
        "id": "mqBxLPEcBd_P",
        "outputId": "8a91ed78-264d-40c9-a2e8-2c09952c786d"
      },
      "execution_count": 50,
      "outputs": [
        {
          "output_type": "stream",
          "name": "stdout",
          "text": [
            "Renamed '/content/MYFILE/tokenizer_4_epoch' to '/content/MYFILE/tokenizer'\n"
          ]
        }
      ]
    }
  ]
}